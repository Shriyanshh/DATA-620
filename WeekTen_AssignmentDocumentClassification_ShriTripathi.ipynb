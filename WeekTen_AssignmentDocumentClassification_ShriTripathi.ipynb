{
 "cells": [
  {
   "cell_type": "markdown",
   "metadata": {},
   "source": [
    "### DATA 620  \n",
    "### Week Ten - Assignment: Document Classification\n",
    "\n",
    "Shri Tripathi  \n",
    "4/15/2025\n",
    "\n",
    "#### Assignment Overview\n",
    "\n",
    "It can be useful to be able to classify new \"test\" documents using already classified \"training\" documents.  A common example is using a corpus of labeled spam and ham (non-spam) e-mails to predict whether or not a new document is spam.  Here is one example of such data:  [UCI Machine Learning Repository: Spambase Data Set](https://archive.ics.uci.edu/dataset/94/spambase)\n",
    "\n",
    "For this project, you can either use the above dataset to predict the class of new documents (either withheld from the training dataset or from another source such as your own spam folder). For more adventurous students, you are welcome (encouraged!) to come up a different set of documents (including scraped web pages!?) that have already been classified (e.g. tagged), then analyze these documents to predict how new documents should be classified.\n",
    "\n",
    "#### Project Description\n",
    "\n",
    "In this assignment, the goal is to create a spam detection classifier that predicts whether an email is spam or ham using a separate set of pre-classified documents. The spam and ham corpora for this project can be obtained from the SpamAssassin public corpus available here:  \n",
    "[SpamAssassin Public Corpus](http://spamassassin.apache.org/old/publiccorpus/).\n",
    "\n",
    "The code provided in your project assumes that the following tarball files have been downloaded, unzipped, and untarred in a local directory:\n",
    "\n",
    "* `20021010_hard_ham.tar.bz2` &mdash; contains ham emails (notoriously more challenging to categorize)\n",
    "* `20021010_spam.tar.bz2` &mdash; contains spam emails\n",
    "* `20030228_hard_ham.tar.bz2` &mdash; contains ham emails (used as a test set for the classifier)\n",
    "* `20030228_spam.tar.bz2` &mdash; contains spam emails\n",
    "\n",
    "After extracting these files, the directory structure should be as follows (all email files should reside in the lowest subdirectory):\n",
    "\n",
    "* `./20021010_hard_ham/hard_ham`\n",
    "* `./20030228_hard_ham/hard_ham`\n",
    "* `./spam`\n",
    "* `./20030228_spam/spam`\n",
    "\n",
    "### General Approach for the Spam Detection Classifier\n",
    "\n",
    "1. **Load the Data**: Import spam and ham email messages from the specified directories.\n",
    "2. **Preprocess and Feature Extraction**: Clean the emails and extract relevant features (e.g., term frequencies, n-grams).\n",
    "3. **Train the Classifier**: Use the processed training data to build the classification model.\n",
    "4. **Evaluate the Classifier**: Test the model’s performance using an evaluation set.\n",
    "5. **Model Selection**: Compare different classifiers and tune hyperparameters.\n",
    "6. **Prediction**: Finally, use the selected classifier to predict the class of new emails, especially focusing on the ham emails for further validation."
   ]
  },
  {
   "cell_type": "markdown",
   "metadata": {},
   "source": [
    "### Import Necessary Packages"
   ]
  },
  {
   "cell_type": "code",
   "execution_count": 1,
   "metadata": {
    "collapsed": true
   },
   "outputs": [],
   "source": [
    "import nltk\n",
    "from nltk.corpus.reader.plaintext import PlaintextCorpusReader\n",
    "from nltk import word_tokenize, WordNetLemmatizer\n",
    "from nltk.corpus import wordnet as wn\n",
    "from nltk.stem.wordnet import WordNetLemmatizer\n",
    "from nltk.corpus import stopwords\n",
    "from nltk import NaiveBayesClassifier, classify\n",
    "from nltk import DecisionTreeClassifier, classify\n",
    "from nltk import MaxentClassifier, classify\n",
    "from collections import Counter\n",
    "\n",
    "import numpy  \n",
    "import pandas as pd\n",
    "import random\n",
    "import string\n",
    "import itertools\n",
    "\n",
    "%matplotlib inline\n",
    "import matplotlib.pyplot as plt\n",
    "import seaborn as sns\n",
    "\n",
    "from sklearn.metrics import classification_report, f1_score, accuracy_score, confusion_matrix\n",
    "from nltk.classify.scikitlearn import SklearnClassifier\n",
    "from sklearn.naive_bayes import MultinomialNB,BernoulliNB\n",
    "from sklearn.linear_model import LogisticRegression,SGDClassifier\n",
    "from sklearn.svm import SVC, LinearSVC, NuSVC\n"
   ]
  },
  {
   "cell_type": "markdown",
   "metadata": {},
   "source": [
    "### Step 1 - Load Ham and Spam Email Messages as Corpora\n",
    "\n",
    "\n",
    "\n"
   ]
  },
  {
   "cell_type": "code",
   "execution_count": null,
   "metadata": {
    "collapsed": true
   },
   "outputs": [],
   "source": [
    "# Define a function that processes files in a given directory and produces\n",
    "# three essential outputs for subsequent analysis:\n",
    "#   1. A PlaintextCorpusReader instance from nltk.corpus.reader.plaintext.\n",
    "#   2. An nltk.text.Text object containing tokenized sentences.\n",
    "#   3. A list of emails each labeled with either ham or spam.\n",
    "\n",
    "def init_corpus(dir, tag):\n",
    "    \n",
    "    # Apply latin-1 encoding to correctly handle special characters.\n",
    "    # Create a PlaintextCorpusReader to read every file in the specified directory.\n",
    "    corpus0 = PlaintextCorpusReader(dir, '.*', encoding='latin-1') \n",
    "    \n",
    "    # Extract and tokenize the sentences from the corpus.\n",
    "    # This produces an nltk.Text object with the tokenized sentence data.\n",
    "    corpus  = nltk.Text(corpus0.sents())\n",
    "    \n",
    "    # Assign the provided tag to each email, preparing the data for later classification.\n",
    "    emails = [(email, tag) for email in corpus]\n",
    "    \n",
    "    return corpus0, corpus, emails\n"
   ]
  },
  {
   "cell_type": "code",
   "execution_count": null,
   "metadata": {
    "collapsed": true
   },
   "outputs": [],
   "source": [
    "## Ham Email Corpus\n",
    "## Initialize using a subset of ham emails known to be particularly challenging\n",
    "## These emails have been identified as more complex to classify\n",
    "## =====================================================================\n",
    "hamcorpusdir = './20021010_hard_ham/hard_ham'   # directory path for the ham emails\n",
    "\n",
    "hamcorpus0, hamcorpus, ham_emails = init_corpus(hamcorpusdir, 'ham')\n"
   ]
  },
  {
   "cell_type": "code",
   "execution_count": null,
   "metadata": {
    "collapsed": true
   },
   "outputs": [],
   "source": [
    "## Spam Email Corpus\n",
    "## Set up the corpus for spam emails using the designated directory\n",
    "## ================================================================\n",
    "spamcorpusdir = './spam'  # Path to the local directory containing spam emails\n",
    "\n",
    "spamcorpus0, spamcorpus, spam_emails = init_corpus(spamcorpusdir, 'spam')\n"
   ]
  },
  {
   "cell_type": "markdown",
   "metadata": {},
   "source": [
    "#### Produce Overview Statistics for the Corpora"
   ]
  },
  {
   "cell_type": "code",
   "execution_count": null,
   "metadata": {
    "collapsed": true
   },
   "outputs": [],
   "source": [
    "def corpus_stats(corpus, name):\n",
    "    # Calculate the total number of files in the corpus.\n",
    "    total_files = len(corpus.fileids())\n",
    "    \n",
    "    # Compute the total number of characters in the corpus's raw text.\n",
    "    total_chars = len(corpus.raw())\n",
    "    \n",
    "    # Compute the total number of words in the corpus.\n",
    "    total_words = len(corpus.words())\n",
    "    \n",
    "    # Compute the total number of sentences in the corpus.\n",
    "    total_sentences = len(corpus.sents())\n",
    "\n",
    "    # Print a header for the corpus statistics using the provided name.\n",
    "    print(\"{} Corpus: \".format(name))\n",
    "    print(\"===========================\")\n",
    "    \n",
    "    # Display the total number of files.\n",
    "    print(\"Total Files = {}\".format(total_files))\n",
    "    \n",
    "    # Display the total number of words.\n",
    "    print(\"Total Words = {}\".format(total_words))\n",
    "    \n",
    "    # Calculate and display the average number of words per file.\n",
    "    print(\"Avg Words Per File = {}\".format(total_words / total_files))\n",
    "    \n",
    "    # Display the total number of sentences.\n",
    "    print(\"Total Sentences = {}\".format(total_sentences))\n",
    "    \n",
    "    # Calculate and display the average number of sentences per file.\n",
    "    print(\"Avg Sentences Per File = {}\".format(total_sentences / total_files))\n"
   ]
  },
  {
   "cell_type": "code",
   "execution_count": 6,
   "metadata": {
    "collapsed": false
   },
   "outputs": [
    {
     "name": "stdout",
     "output_type": "stream",
     "text": [
      "Spam Corpus Corpus: \n",
      "===========================\n",
      "Total Files = 501\n",
      "Total Words = 769207\n",
      "Avg Words Per File = 1535\n",
      "Total Sentences = 12107\n",
      "Avg Sentences Per File = 24\n"
     ]
    }
   ],
   "source": [
    "corpus_stats(spamcorpus0, \"Spam Corpus\")"
   ]
  },
  {
   "cell_type": "code",
   "execution_count": 7,
   "metadata": {
    "collapsed": false
   },
   "outputs": [
    {
     "name": "stdout",
     "output_type": "stream",
     "text": [
      "Ham Corpus Corpus: \n",
      "===========================\n",
      "Total Files = 250\n",
      "Total Words = 1513630\n",
      "Avg Words Per File = 6054\n",
      "Total Sentences = 24035\n",
      "Avg Sentences Per File = 96\n"
     ]
    }
   ],
   "source": [
    "corpus_stats(hamcorpus0, \"Ham Corpus\")"
   ]
  },
  {
   "cell_type": "markdown",
   "metadata": {},
   "source": [
    "#### Merge the spam and ham email datasets and randomize their order\n",
    "Set a fixed random seed to ensure that the shuffling produces the same results each time"
   ]
  },
  {
   "cell_type": "code",
   "execution_count": 8,
   "metadata": {
    "collapsed": true
   },
   "outputs": [],
   "source": [
    "# combine\n",
    "random_seed=1534678\n",
    "random.seed(random_seed)\n",
    "\n",
    "# combine the spam and ham emails together\n",
    "all_emails = spam_emails + ham_emails"
   ]
  },
  {
   "cell_type": "code",
   "execution_count": 9,
   "metadata": {
    "collapsed": true
   },
   "outputs": [],
   "source": [
    "# shuffle the combined emails\n",
    "random.shuffle(all_emails)"
   ]
  },
  {
   "cell_type": "markdown",
   "metadata": {},
   "source": [
    "### Step 2 - Data Preprocessing & Feature Extraction  \n",
    "Before extracting features, we'll normalize the data to consolidate different forms of the same word into a unified representation. This process involves several techniques including lemmatization, stemming, and the removal of stopwords and punctuation."
   ]
  },
  {
   "cell_type": "code",
   "execution_count": null,
   "metadata": {
    "collapsed": true
   },
   "outputs": [],
   "source": [
    "\n",
    "# Optionally, define a stoplist if needed.\n",
    "# stoplist = stopwords.words(\"english\")\n",
    "\n",
    "# Function to preprocess a sentence by converting each word to lowercase\n",
    "# and then applying lemmatization to obtain the base form of each word.\n",
    "def preprocess1(sentence):\n",
    "    wnl = WordNetLemmatizer()\n",
    "    return [wnl.lemmatize(word.lower()) for word in sentence]\n",
    "\n",
    "# Function to preprocess a sentence using stemming.\n",
    "# Each word is first converted to lowercase, then reduced to its stem using the Porter stemmer.\n",
    "def preprocess2(sentence):   \n",
    "    porter = nltk.PorterStemmer()  \n",
    "    return [porter.stem(word.lower()) for word in sentence]\n",
    "\n",
    "def preprocess3(sentence):\n",
    "    \"\"\"\n",
    "    Processes a string of text by performing the following steps:\n",
    "    1. Remove all punctuation marks.\n",
    "    2. Eliminate common stopwords.\n",
    "    3. Return a list of the filtered words.\n",
    "    \"\"\"\n",
    "    # Iterate through the text and remove punctuation characters.\n",
    "    nopunc = [char for char in sentence if char not in string.punctuation]\n",
    "\n",
    "    # Join the list of characters back into a full string.\n",
    "    nopunc = ''.join(nopunc)\n",
    "    \n",
    "    # Split the string into words and filter out any stopwords.\n",
    "    return [word for word in nopunc.split() if word.lower() not in stopwords.words('english')]\n"
   ]
  },
  {
   "cell_type": "markdown",
   "metadata": {},
   "source": [
    "### Feature Extraction\n",
    "\n",
    "In this phase, we will explore three different approaches to build feature sets for the classification model training. Later, in the evaluation stage, we will assess which method delivers the best performance."
   ]
  },
  {
   "cell_type": "code",
   "execution_count": 14,
   "metadata": {
    "collapsed": true
   },
   "outputs": [],
   "source": [
    "stoplist = stopwords.words(\"english\")\n",
    "## get_features function to extract features\n",
    "def get_features(text, preprocessor):\n",
    "    \n",
    "    \"\"\"\n",
    "    Accepts in a string of text and the preprocessing function to be applied\n",
    "    \"\"\"\n",
    "    return {word: True for word in preprocessor(text) if not word in stoplist}"
   ]
  },
  {
   "cell_type": "code",
   "execution_count": 15,
   "metadata": {
    "collapsed": false
   },
   "outputs": [],
   "source": [
    "# extract features using the first preprocessor which is using lemmatization\n",
    "all_features1 = [(get_features(email, preprocess1), label) for (email, label) in all_emails]"
   ]
  },
  {
   "cell_type": "code",
   "execution_count": 16,
   "metadata": {
    "collapsed": true
   },
   "outputs": [],
   "source": [
    "# extract features using the second preprocessor which is using stemming\n",
    "all_features2 = [(get_features(email, preprocess2), label) for (email, label) in all_emails]"
   ]
  },
  {
   "cell_type": "code",
   "execution_count": 17,
   "metadata": {
    "collapsed": true
   },
   "outputs": [],
   "source": [
    "# extract features using the third preprocessor which essentially returns cleaned text\n",
    "all_features3 = [(get_features(email, preprocess3), label) for (email, label) in all_emails]"
   ]
  },
  {
   "cell_type": "markdown",
   "metadata": {},
   "source": [
    "### Step 3 - Classifier Training\n",
    "\n",
    "In this stage, we will assess three different types of classifiers. Each employs a unique preprocessing method to generate its respective feature set from the data. The classifiers under evaluation are:\n",
    "\n",
    "1. Naive Bayes\n",
    "2. Logistic Regression\n",
    "3. Linear SVC"
   ]
  },
  {
   "cell_type": "code",
   "execution_count": 18,
   "metadata": {
    "collapsed": true
   },
   "outputs": [],
   "source": [
    "## NaiveBayes \n",
    "def train_NB(features, samples_proportion):\n",
    "    train_size = int(len(features) * samples_proportion)\n",
    "    train_set, test_set = features[:train_size], features[train_size:]\n",
    "    \n",
    "    print ('Training set size = ' + str(len(train_set)) + ' emails')\n",
    "    print ('Test set size = ' + str(len(test_set)) + ' emails')\n",
    "    \n",
    "    classifier = NaiveBayesClassifier.train(train_set)\n",
    "    return train_set, test_set, classifier\n",
    "\n",
    "## Logistic Regression\n",
    "def train_LR(features, samples_proportion):\n",
    "    train_size = int(len(features) * samples_proportion)\n",
    "    train_set, test_set = features[:train_size], features[train_size:]\n",
    "    print ('Training set size = ' + str(len(train_set)) + ' emails')\n",
    "    print ('Test set size = ' + str(len(test_set)) + ' emails')\n",
    "    \n",
    "    LogisticRegression_classifier = SklearnClassifier(LogisticRegression())   \n",
    "    classifier = LogisticRegression_classifier.train(train_set)\n",
    "    \n",
    "    return train_set, test_set, classifier\n",
    "\n",
    "## LinearSVC\n",
    "def train_LSVC(features, samples_proportion):\n",
    "    train_size = int(len(features) * samples_proportion)\n",
    "    train_set, test_set = features[:train_size], features[train_size:]\n",
    "    print ('Training set size = ' + str(len(train_set)) + ' emails')\n",
    "    print ('Test set size = ' + str(len(test_set)) + ' emails')\n",
    "    \n",
    "    LinearSVC_classifier = SklearnClassifier(LinearSVC())\n",
    "    classifier = LinearSVC_classifier.train(train_set)\n",
    "    \n",
    "    return train_set, test_set, classifier\n"
   ]
  },
  {
   "cell_type": "markdown",
   "metadata": {},
   "source": [
    "### Train the NaiveBayes Classifiers"
   ]
  },
  {
   "cell_type": "code",
   "execution_count": 19,
   "metadata": {
    "collapsed": false
   },
   "outputs": [
    {
     "name": "stdout",
     "output_type": "stream",
     "text": [
      "Training set size = 28913 emails\n",
      "Test set size = 7229 emails\n"
     ]
    }
   ],
   "source": [
    "train_set1_NB, test_set1_NB, classifier1_NB = train_NB(all_features1, 0.8)"
   ]
  },
  {
   "cell_type": "code",
   "execution_count": 20,
   "metadata": {
    "collapsed": false
   },
   "outputs": [
    {
     "name": "stdout",
     "output_type": "stream",
     "text": [
      "Training set size = 28913 emails\n",
      "Test set size = 7229 emails\n"
     ]
    }
   ],
   "source": [
    "train_set2_NB, test_set2_NB, classifier2_NB = train_NB(all_features2, 0.8)"
   ]
  },
  {
   "cell_type": "code",
   "execution_count": 21,
   "metadata": {
    "collapsed": false
   },
   "outputs": [
    {
     "name": "stdout",
     "output_type": "stream",
     "text": [
      "Training set size = 28913 emails\n",
      "Test set size = 7229 emails\n"
     ]
    }
   ],
   "source": [
    "train_set3_NB, test_set3_NB, classifier3_NB = train_NB(all_features3, 0.8)"
   ]
  },
  {
   "cell_type": "markdown",
   "metadata": {},
   "source": [
    "### Train the Logistic Regression Classifiers"
   ]
  },
  {
   "cell_type": "code",
   "execution_count": 22,
   "metadata": {
    "collapsed": false
   },
   "outputs": [
    {
     "name": "stdout",
     "output_type": "stream",
     "text": [
      "Training set size = 28913 emails\n",
      "Test set size = 7229 emails\n"
     ]
    }
   ],
   "source": [
    "train_set1_LR, test_set1_LR, classifier1_LR = train_LR(all_features1, 0.8)"
   ]
  },
  {
   "cell_type": "code",
   "execution_count": 23,
   "metadata": {
    "collapsed": false
   },
   "outputs": [
    {
     "name": "stdout",
     "output_type": "stream",
     "text": [
      "Training set size = 28913 emails\n",
      "Test set size = 7229 emails\n"
     ]
    }
   ],
   "source": [
    "train_set2_LR, test_set2_LR, classifier2_LR = train_LR(all_features2, 0.8)"
   ]
  },
  {
   "cell_type": "code",
   "execution_count": 24,
   "metadata": {
    "collapsed": false
   },
   "outputs": [
    {
     "name": "stdout",
     "output_type": "stream",
     "text": [
      "Training set size = 28913 emails\n",
      "Test set size = 7229 emails\n"
     ]
    }
   ],
   "source": [
    "train_set3_LR, test_set3_LR, classifier3_LR = train_LR(all_features3, 0.8)"
   ]
  },
  {
   "cell_type": "markdown",
   "metadata": {},
   "source": [
    "### Train the Linear SVC Classifiers"
   ]
  },
  {
   "cell_type": "code",
   "execution_count": 25,
   "metadata": {
    "collapsed": false
   },
   "outputs": [
    {
     "name": "stdout",
     "output_type": "stream",
     "text": [
      "Training set size = 28913 emails\n",
      "Test set size = 7229 emails\n"
     ]
    }
   ],
   "source": [
    "train_set1_LSVC, test_set1_LSVC, classifier1_LSVC = train_LSVC(all_features1, 0.8)"
   ]
  },
  {
   "cell_type": "code",
   "execution_count": 26,
   "metadata": {
    "collapsed": false
   },
   "outputs": [
    {
     "name": "stdout",
     "output_type": "stream",
     "text": [
      "Training set size = 28913 emails\n",
      "Test set size = 7229 emails\n"
     ]
    }
   ],
   "source": [
    "train_set2_LSVC, test_set2_LSVC, classifier2_LSVC = train_LSVC(all_features2, 0.8)"
   ]
  },
  {
   "cell_type": "code",
   "execution_count": 27,
   "metadata": {
    "collapsed": false
   },
   "outputs": [
    {
     "name": "stdout",
     "output_type": "stream",
     "text": [
      "Training set size = 28913 emails\n",
      "Test set size = 7229 emails\n"
     ]
    }
   ],
   "source": [
    "train_set3_LSVC, test_set3_LSVC, classifier3_LSVC = train_LSVC(all_features3, 0.8)"
   ]
  },
  {
   "cell_type": "markdown",
   "metadata": {},
   "source": [
    "### Step 4 - Evaluate the Classifiers"
   ]
  },
  {
   "cell_type": "code",
   "execution_count": 28,
   "metadata": {
    "collapsed": true
   },
   "outputs": [],
   "source": [
    "# Code here for the confusion is heavily borrowed from our 620 group project\n",
    "def plot_confusion_matrix(cm, classes,\n",
    "                          title='Confusion Matrix',\n",
    "                          cmap=plt.cm.Blues):\n",
    "    \"\"\"\n",
    "    Plots the confusion matrix. \n",
    "    \"\"\"\n",
    "    plt.imshow(cm, interpolation='nearest', cmap=cmap)\n",
    "    plt.title(title)\n",
    "    tick_marks = numpy.arange(len(classes))\n",
    "    plt.xticks(tick_marks, classes, rotation=90)\n",
    "    plt.yticks(tick_marks, classes)\n",
    "\n",
    "    fmt = '.2f' if False else 'd'\n",
    "    thresh = cm.max() / 2.\n",
    "    for i, j in itertools.product(range(cm.shape[0]), range(cm.shape[1])):\n",
    "        plt.text(j, i, format(cm[i, j], fmt),\n",
    "                 horizontalalignment=\"center\",\n",
    "                 color=\"white\" if cm[i, j] > thresh else \"black\")\n",
    "\n",
    "    plt.tight_layout()\n",
    "    plt.ylabel('True Label')\n",
    "    plt.xlabel('Predicted Label')\n",
    "\n",
    "    return"
   ]
  },
  {
   "cell_type": "code",
   "execution_count": 29,
   "metadata": {
    "collapsed": true
   },
   "outputs": [],
   "source": [
    "def evaluate_classifier(train_set, test_set, classifier, preprocessor):\n",
    "    print(\"Classifier Performance Evaluation\")\n",
    "    print(\"===================================\\n\")\n",
    "    \n",
    "    print('Accuracy on the training set = ' + str(classify.accuracy(classifier, train_set)))\n",
    "    print('Accuracy of the test set = ' + str(classify.accuracy(classifier, test_set)))\n",
    "    \n",
    "    ## TRAIN ##\n",
    "    # create predicted classes (train)\n",
    "    train_set_predictions = [classifier.classify(get_features(email, preprocessor)) for (email, label) in train_set]\n",
    "    \n",
    "    # extract actual classes (gold)\n",
    "    train_set_gold = [tag for (n, tag) in train_set]\n",
    "    \n",
    "    # create confusion matrix\n",
    "    train_confusion_matrix=confusion_matrix(train_set_gold, train_set_predictions)\n",
    "    \n",
    "    # create table with precision, recall, f1-score, and support\n",
    "    train_report=classification_report(train_set_gold, train_set_predictions, digits=4)\n",
    "    \n",
    "    # display performance report (train)\n",
    "    print('\\nModel Performance Metrics (Train):')\n",
    "    print(train_report)\n",
    "    \n",
    "    #----------------------------------------------------------------------------------\n",
    "    ## TEST ##\n",
    "    # create predicted classes (test)\n",
    "    test_set_predictions = [classifier.classify(get_features(email, preprocessor)) for (email, label) in test_set]\n",
    "    \n",
    "    # extract actual classes (gold)\n",
    "    test_set_gold = [tag for (n, tag) in test_set]\n",
    "    \n",
    "    # create confusion matrix\n",
    "    test_confusion_matrix=confusion_matrix(test_set_gold, test_set_predictions)\n",
    "           \n",
    "    # create table with precision, recall, f1-score, and support\n",
    "    test_report=classification_report(test_set_gold, test_set_predictions, digits=4)\n",
    "    \n",
    "    # display performance report (train)\n",
    "    print('\\nModel Performance Metrics (Test):')\n",
    "    print(test_report)\n",
    "    \n",
    "    ## Confusion Matrices - Test vs. Train side-by-side\n",
    "    # size figure\n",
    "    plt.figure(figsize=(10,6))\n",
    "    # add first subplot\n",
    "    plt.subplot(2, 2, 1)\n",
    "    # plot confusion matrix\n",
    "    plot_confusion_matrix(train_confusion_matrix, classes=['spam','ham'], title=\"Confusion Matrix - Training Set\")\n",
    "    # add second subplot\n",
    "    plt.subplot(2, 2, 2)\n",
    "    # plot confusion matrix (test)\n",
    "    plot_confusion_matrix(test_confusion_matrix, classes=['spam','ham'], title=\"Confusion Matrix - Test Set\")\n",
    "    \n",
    "    return "
   ]
  },
  {
   "cell_type": "markdown",
   "metadata": {},
   "source": [
    "### NaiveBayes Evaluation"
   ]
  },
  {
   "cell_type": "code",
   "execution_count": 30,
   "metadata": {
    "collapsed": false
   },
   "outputs": [
    {
     "name": "stdout",
     "output_type": "stream",
     "text": [
      "Classifier Performance Evaluation\n",
      "===================================\n",
      "\n",
      "Accuracy on the training set = 0.904921661536\n",
      "Accuracy of the test set = 0.872181491216\n",
      "\n",
      "Model Performance Metrics (Train):\n",
      "             precision    recall  f1-score   support\n",
      "\n",
      "        ham     0.9346    0.9218    0.9282     19263\n",
      "       spam     0.8481    0.8713    0.8595      9650\n",
      "\n",
      "avg / total     0.9057    0.9050    0.9053     28913\n",
      "\n",
      "\n",
      "Model Performance Metrics (Test):\n",
      "             precision    recall  f1-score   support\n",
      "\n",
      "        ham     0.9104    0.8946    0.9024      4772\n",
      "       spam     0.8020    0.8291    0.8153      2457\n",
      "\n",
      "avg / total     0.8736    0.8723    0.8728      7229\n",
      "\n"
     ]
    },
    {
     "data": {
      "image/png": "[encoded data removed]",
      "text/plain": [
       "<matplotlib.figure.Figure at 0x3eebb38>"
      ]
     },
     "metadata": {},
     "output_type": "display_data"
    }
   ],
   "source": [
    "# preprocessing of features based on lemmatization\n",
    "evaluate_classifier(train_set1_NB, test_set1_NB, classifier1_NB, preprocess1)"
   ]
  },
  {
   "cell_type": "code",
   "execution_count": 31,
   "metadata": {
    "collapsed": false
   },
   "outputs": [
    {
     "name": "stdout",
     "output_type": "stream",
     "text": [
      "Classifier Performance Evaluation\n",
      "===================================\n",
      "\n",
      "Accuracy on the training set = 0.893196831875\n",
      "Accuracy of the test set = 0.865818232121\n",
      "\n",
      "Model Performance Metrics (Train):\n",
      "             precision    recall  f1-score   support\n",
      "\n",
      "        ham     0.9276    0.9070    0.9172     19263\n",
      "       spam     0.8222    0.8587    0.8400      9650\n",
      "\n",
      "avg / total     0.8924    0.8908    0.8914     28913\n",
      "\n",
      "\n",
      "Model Performance Metrics (Test):\n",
      "             precision    recall  f1-score   support\n",
      "\n",
      "        ham     0.9060    0.8843    0.8950      4772\n",
      "       spam     0.7853    0.8217    0.8031      2457\n",
      "\n",
      "avg / total     0.8650    0.8631    0.8638      7229\n",
      "\n"
     ]
    },
    {
     "data": {
      "image/png": "[encoded data removed]",
      "text/plain": [
       "<matplotlib.figure.Figure at 0x2ac19320>"
      ]
     },
     "metadata": {},
     "output_type": "display_data"
    }
   ],
   "source": [
    "# preprocessing of features based on stemming\n",
    "evaluate_classifier(train_set2_NB, test_set2_NB, classifier2_NB, preprocess2)"
   ]
  },
  {
   "cell_type": "code",
   "execution_count": 32,
   "metadata": {
    "collapsed": false
   },
   "outputs": [
    {
     "name": "stdout",
     "output_type": "stream",
     "text": [
      "Classifier Performance Evaluation\n",
      "===================================\n",
      "\n",
      "Accuracy on the training set = 0.989174419811\n",
      "Accuracy of the test set = 0.823488725965\n",
      "\n",
      "Model Performance Metrics (Train):\n",
      "             precision    recall  f1-score   support\n",
      "\n",
      "        ham     0.9857    0.9982    0.9919     19263\n",
      "       spam     0.9964    0.9711    0.9836      9650\n",
      "\n",
      "avg / total     0.9893    0.9892    0.9891     28913\n",
      "\n",
      "\n",
      "Model Performance Metrics (Test):\n",
      "             precision    recall  f1-score   support\n",
      "\n",
      "        ham     0.7905    0.9969    0.8817      4772\n",
      "       spam     0.9876    0.4868    0.6521      2457\n",
      "\n",
      "avg / total     0.8575    0.8235    0.8037      7229\n",
      "\n"
     ]
    },
    {
     "data": {
      "image/png": "[encoded data removed]",
      "text/plain": [
       "<matplotlib.figure.Figure at 0x2c1e5898>"
      ]
     },
     "metadata": {},
     "output_type": "display_data"
    }
   ],
   "source": [
    "# preprocessing of features based on cleaned Text -- removal of punctuation, stopwords.  \n",
    "evaluate_classifier(train_set3_NB, test_set3_NB, classifier3_NB, preprocess3)"
   ]
  },
  {
   "cell_type": "markdown",
   "metadata": {},
   "source": [
    "__Note__ The featureset based on the the third preprocessing option appear to be overfitting the training dataset.  The peformance metrics against the test dataset show some marked degradation.  Consequently, we'll discontinue using this in subsequent classifiers."
   ]
  },
  {
   "cell_type": "markdown",
   "metadata": {},
   "source": [
    "### Logistic Regression Evaluation"
   ]
  },
  {
   "cell_type": "code",
   "execution_count": 33,
   "metadata": {
    "collapsed": false
   },
   "outputs": [
    {
     "name": "stdout",
     "output_type": "stream",
     "text": [
      "Classifier Performance Evaluation\n",
      "===================================\n",
      "\n",
      "Accuracy on the training set = 0.95925708159\n",
      "Accuracy of the test set = 0.913819338774\n",
      "\n",
      "Model Performance Metrics (Train):\n",
      "             precision    recall  f1-score   support\n",
      "\n",
      "        ham     0.9600    0.9796    0.9697     19263\n",
      "       spam     0.9575    0.9184    0.9376      9650\n",
      "\n",
      "avg / total     0.9592    0.9592    0.9590     28913\n",
      "\n",
      "\n",
      "Model Performance Metrics (Test):\n",
      "             precision    recall  f1-score   support\n",
      "\n",
      "        ham     0.9249    0.9466    0.9356      4772\n",
      "       spam     0.8913    0.8506    0.8705      2457\n",
      "\n",
      "avg / total     0.9134    0.9140    0.9135      7229\n",
      "\n"
     ]
    },
    {
     "data": {
      "image/png": "[encoded data removed]",
      "text/plain": [
       "<matplotlib.figure.Figure at 0x34f336a0>"
      ]
     },
     "metadata": {},
     "output_type": "display_data"
    }
   ],
   "source": [
    "# preprocessing of features based on lemmatization\n",
    "evaluate_classifier(train_set1_LR, test_set1_LR, classifier1_LR, preprocess1)"
   ]
  },
  {
   "cell_type": "code",
   "execution_count": 34,
   "metadata": {
    "collapsed": false
   },
   "outputs": [
    {
     "name": "stdout",
     "output_type": "stream",
     "text": [
      "Classifier Performance Evaluation\n",
      "===================================\n",
      "\n",
      "Accuracy on the training set = 0.953135267873\n",
      "Accuracy of the test set = 0.911744362982\n",
      "\n",
      "Model Performance Metrics (Train):\n",
      "             precision    recall  f1-score   support\n",
      "\n",
      "        ham     0.9518    0.9740    0.9628     19263\n",
      "       spam     0.9455    0.9016    0.9230      9650\n",
      "\n",
      "avg / total     0.9497    0.9498    0.9495     28913\n",
      "\n",
      "\n",
      "Model Performance Metrics (Test):\n",
      "             precision    recall  f1-score   support\n",
      "\n",
      "        ham     0.9214    0.9436    0.9324      4772\n",
      "       spam     0.8851    0.8437    0.8639      2457\n",
      "\n",
      "avg / total     0.9091    0.9097    0.9091      7229\n",
      "\n"
     ]
    },
    {
     "data": {
      "image/png": "[encoded data removed]",
      "text/plain": [
       "<matplotlib.figure.Figure at 0x34e974e0>"
      ]
     },
     "metadata": {},
     "output_type": "display_data"
    }
   ],
   "source": [
    "# preprocessing of features based on stemming\n",
    "evaluate_classifier(train_set2_LR, test_set2_LR, classifier2_LR, preprocess2)"
   ]
  },
  {
   "cell_type": "markdown",
   "metadata": {},
   "source": [
    "### Linear SVC Evaluation"
   ]
  },
  {
   "cell_type": "code",
   "execution_count": 35,
   "metadata": {
    "collapsed": false
   },
   "outputs": [
    {
     "name": "stdout",
     "output_type": "stream",
     "text": [
      "Classifier Performance Evaluation\n",
      "===================================\n",
      "\n",
      "Accuracy on the training set = 0.97859094525\n",
      "Accuracy of the test set = 0.917139300041\n",
      "\n",
      "Model Performance Metrics (Train):\n",
      "             precision    recall  f1-score   support\n",
      "\n",
      "        ham     0.9799    0.9874    0.9836     19263\n",
      "       spam     0.9745    0.9595    0.9669      9650\n",
      "\n",
      "avg / total     0.9781    0.9781    0.9781     28913\n",
      "\n",
      "\n",
      "Model Performance Metrics (Test):\n",
      "             precision    recall  f1-score   support\n",
      "\n",
      "        ham     0.9377    0.9361    0.9369      4772\n",
      "       spam     0.8763    0.8791    0.8777      2457\n",
      "\n",
      "avg / total     0.9168    0.9167    0.9168      7229\n",
      "\n"
     ]
    },
    {
     "data": {
      "image/png": "[encoded data removed]",
      "text/plain": [
       "<matplotlib.figure.Figure at 0x34f334e0>"
      ]
     },
     "metadata": {},
     "output_type": "display_data"
    }
   ],
   "source": [
    "# preprocessing of features based on lemmatization\n",
    "evaluate_classifier(train_set1_LSVC, test_set1_LSVC, classifier1_LSVC, preprocess1)"
   ]
  },
  {
   "cell_type": "code",
   "execution_count": 36,
   "metadata": {
    "collapsed": false
   },
   "outputs": [
    {
     "name": "stdout",
     "output_type": "stream",
     "text": [
      "Classifier Performance Evaluation\n",
      "===================================\n",
      "\n",
      "Accuracy on the training set = 0.972987929305\n",
      "Accuracy of the test set = 0.913542675335\n",
      "\n",
      "Model Performance Metrics (Train):\n",
      "             precision    recall  f1-score   support\n",
      "\n",
      "        ham     0.9702    0.9842    0.9771     19263\n",
      "       spam     0.9675    0.9397    0.9534      9650\n",
      "\n",
      "avg / total     0.9693    0.9693    0.9692     28913\n",
      "\n",
      "\n",
      "Model Performance Metrics (Test):\n",
      "             precision    recall  f1-score   support\n",
      "\n",
      "        ham     0.9313    0.9348    0.9331      4772\n",
      "       spam     0.8725    0.8661    0.8693      2457\n",
      "\n",
      "avg / total     0.9113    0.9115    0.9114      7229\n",
      "\n"
     ]
    },
    {
     "data": {
      "image/png": "[encoded data removed]",
      "text/plain": [
       "<matplotlib.figure.Figure at 0x3641c4a8>"
      ]
     },
     "metadata": {},
     "output_type": "display_data"
    }
   ],
   "source": [
    "# preprocessing of features based on stemming\n",
    "evaluate_classifier(train_set2_LSVC, test_set2_LSVC, classifier2_LSVC, preprocess2)"
   ]
  },
  {
   "cell_type": "markdown",
   "metadata": {},
   "source": [
    "## Conclusion\n",
    "\n",
    "After evaluating the three classifiers, the LinearSVC classifier—combined with lemmatization-based feature selection—demonstrated the best performance when measured by the f1-score on the test dataset.\n",
    "\n",
    "Next, we will analyze the classifier's performance on a subset of ham emails known to be more challenging to categorize. This focused test will reveal whether the classifier mistakenly labels any of these difficult ham messages as spam."
   ]
  },
  {
   "cell_type": "code",
   "execution_count": 37,
   "metadata": {
    "collapsed": false
   },
   "outputs": [],
   "source": [
    "## Ham Email Messages \n",
    "## ========================\n",
    "\n",
    "hardhamcorpusdir = './20030228_hard_ham/hard_ham/'   # local directory structure of the ham emails\n",
    "hardhamcorpus0, hardhamcorpus, hard_ham_emails = init_corpus(hardhamcorpusdir, 'ham')"
   ]
  },
  {
   "cell_type": "code",
   "execution_count": 38,
   "metadata": {
    "collapsed": true
   },
   "outputs": [],
   "source": [
    "predictions = [classifier2_LSVC.classify(get_features(email, preprocess1)) for (email, label) in hard_ham_emails]"
   ]
  },
  {
   "cell_type": "code",
   "execution_count": 39,
   "metadata": {
    "collapsed": false
   },
   "outputs": [
    {
     "data": {
      "text/plain": [
       "(Counter({'ham': 21375, 'spam': 1660}), 23035)"
      ]
     },
     "execution_count": 39,
     "metadata": {},
     "output_type": "execute_result"
    }
   ],
   "source": [
    "Counter(predictions), len(predictions)"
   ]
  },
  {
   "cell_type": "markdown",
   "metadata": {},
   "source": [
    "__For the ham messages—using a new, more challenging set of ham—the classifier correctly identified 92.7% as ham. Given this strong performance with ham emails, the LinearSVC classifier appears to be a promising choice for ham classification.__\n",
    "\n",
    "__How does it perform when it comes to detecting spam?__"
   ]
  },
  {
   "cell_type": "markdown",
   "metadata": {},
   "source": [
    "Let's check against known spam as second commparison"
   ]
  },
  {
   "cell_type": "code",
   "execution_count": 40,
   "metadata": {
    "collapsed": true
   },
   "outputs": [],
   "source": [
    "## Spam Email Messages \n",
    "## ========================\n",
    "\n",
    "spam2corpusdir = './20030228_spam/spam/'   # local directory structure of the ham emails\n",
    "spam2corpus0, spam2corpus, spam2_emails = init_corpus(spam2corpusdir, 'spam')"
   ]
  },
  {
   "cell_type": "code",
   "execution_count": 41,
   "metadata": {
    "collapsed": true
   },
   "outputs": [],
   "source": [
    "predictions = [classifier2_LSVC.classify(get_features(email, preprocess1)) for (email, label) in spam2_emails]"
   ]
  },
  {
   "cell_type": "code",
   "execution_count": 42,
   "metadata": {
    "collapsed": false
   },
   "outputs": [
    {
     "data": {
      "text/plain": [
       "(Counter({'ham': 2389, 'spam': 9637}), 12026)"
      ]
     },
     "execution_count": 42,
     "metadata": {},
     "output_type": "execute_result"
    }
   ],
   "source": [
    "Counter(predictions), len(predictions)"
   ]
  },
  {
   "cell_type": "markdown",
   "metadata": {},
   "source": [
    "__Of the spam messages, the classifier correctly identified 80% as spam. Considering these results, further model tuning—especially focused on spam detection—would be a crucial next step.__"
   ]
  },
  {
   "cell_type": "markdown",
   "metadata": {},
   "source": [
    "\n",
    "In summary, the document classification project set out to build a robust spam detection system by comparing three different classifiers—Naive Bayes, Logistic Regression, and Linear SVC—each paired with a unique preprocessing approach. Among these, the Linear SVC classifier, particularly when used in combination with lemmatization for feature extraction, demonstrated the most promising results. The evaluation revealed that while the classifier correctly identified 92.7% of the more challenging ham emails, its performance on spam emails was somewhat lower, with an 80% accuracy rate. These findings underscore the effectiveness of the chosen preprocessing strategy for ham classification while also highlighting the need for further fine-tuning and model optimization to enhance spam detection accuracy.\n",
    "\n",
    "Going forward, additional refinements such as exploring alternative feature extraction methods, incorporating more sophisticated algorithms, or even combining classifiers could help mitigate the misclassification of spam. Overall, the project illustrates the critical role of both preprocessing and model selection in developing a reliable email classification system, and it sets a strong foundation for future improvements."
   ]
  }
 ],
 "metadata": {
  "anaconda-cloud": {},
  "kernelspec": {
   "display_name": "Python [Root]",
   "language": "python",
   "name": "Python [Root]"
  },
  "language_info": {
   "codemirror_mode": {
    "name": "ipython",
    "version": 2
   },
   "file_extension": ".py",
   "mimetype": "text/x-python",
   "name": "python",
   "nbconvert_exporter": "python",
   "pygments_lexer": "ipython2",
   "version": "2.7.12"
  }
 },
 "nbformat": 4,
 "nbformat_minor": 2
}
